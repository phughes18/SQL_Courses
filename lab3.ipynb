{
 "cells": [
  {
   "cell_type": "markdown",
   "metadata": {},
   "source": [
    "# Rumana Khan and Peter Hughes LC"
   ]
  },
  {
   "cell_type": "code",
   "execution_count": 2,
   "metadata": {},
   "outputs": [],
   "source": [
    "%load_ext sql"
   ]
  },
  {
   "cell_type": "code",
   "execution_count": 3,
   "metadata": {},
   "outputs": [
    {
     "data": {
      "text/plain": [
       "'Connected: @lab3.db3'"
      ]
     },
     "execution_count": 3,
     "metadata": {},
     "output_type": "execute_result"
    }
   ],
   "source": [
    "%sql sqlite:///lab3.db3"
   ]
  },
  {
   "cell_type": "code",
   "execution_count": 3,
   "metadata": {
    "scrolled": true
   },
   "outputs": [
    {
     "name": "stdout",
     "output_type": "stream",
     "text": [
      " * sqlite:///lab3.db3\n",
      "Done.\n"
     ]
    },
    {
     "data": {
      "text/html": [
       "<table>\n",
       "    <tr>\n",
       "        <th>sno</th>\n",
       "        <th>cno</th>\n",
       "        <th>grade</th>\n",
       "    </tr>\n",
       "    <tr>\n",
       "        <td>103</td>\n",
       "        <td>3-245</td>\n",
       "        <td>86</td>\n",
       "    </tr>\n",
       "    <tr>\n",
       "        <td>105</td>\n",
       "        <td>3-245</td>\n",
       "        <td>75</td>\n",
       "    </tr>\n",
       "    <tr>\n",
       "        <td>109</td>\n",
       "        <td>3-245</td>\n",
       "        <td>68</td>\n",
       "    </tr>\n",
       "    <tr>\n",
       "        <td>103</td>\n",
       "        <td>3-105</td>\n",
       "        <td>92</td>\n",
       "    </tr>\n",
       "    <tr>\n",
       "        <td>105</td>\n",
       "        <td>3-105</td>\n",
       "        <td>88</td>\n",
       "    </tr>\n",
       "    <tr>\n",
       "        <td>109</td>\n",
       "        <td>3-105</td>\n",
       "        <td>76</td>\n",
       "    </tr>\n",
       "    <tr>\n",
       "        <td>101</td>\n",
       "        <td>3-105</td>\n",
       "        <td>64</td>\n",
       "    </tr>\n",
       "    <tr>\n",
       "        <td>107</td>\n",
       "        <td>3-105</td>\n",
       "        <td>91</td>\n",
       "    </tr>\n",
       "    <tr>\n",
       "        <td>108</td>\n",
       "        <td>3-105</td>\n",
       "        <td>78</td>\n",
       "    </tr>\n",
       "    <tr>\n",
       "        <td>101</td>\n",
       "        <td>6-166</td>\n",
       "        <td>85</td>\n",
       "    </tr>\n",
       "    <tr>\n",
       "        <td>107</td>\n",
       "        <td>6-106</td>\n",
       "        <td>79</td>\n",
       "    </tr>\n",
       "    <tr>\n",
       "        <td>108</td>\n",
       "        <td>6-166</td>\n",
       "        <td>81</td>\n",
       "    </tr>\n",
       "</table>"
      ],
      "text/plain": [
       "[('103', '3-245', 86),\n",
       " ('105', '3-245', 75),\n",
       " ('109', '3-245', 68),\n",
       " ('103', '3-105', 92),\n",
       " ('105', '3-105', 88),\n",
       " ('109', '3-105', 76),\n",
       " ('101', '3-105', 64),\n",
       " ('107', '3-105', 91),\n",
       " ('108', '3-105', 78),\n",
       " ('101', '6-166', 85),\n",
       " ('107', '6-106', 79),\n",
       " ('108', '6-166', 81)]"
      ]
     },
     "execution_count": 3,
     "metadata": {},
     "output_type": "execute_result"
    }
   ],
   "source": [
    "%sql select * from Scores;"
   ]
  },
  {
   "cell_type": "code",
   "execution_count": 4,
   "metadata": {
    "scrolled": false
   },
   "outputs": [
    {
     "name": "stdout",
     "output_type": "stream",
     "text": [
      " * sqlite:///lab3.db3\n",
      "Done.\n"
     ]
    },
    {
     "data": {
      "text/html": [
       "<table>\n",
       "    <tr>\n",
       "        <th>sno</th>\n",
       "        <th>sname</th>\n",
       "        <th>sgender</th>\n",
       "        <th>sbirthday</th>\n",
       "        <th>class</th>\n",
       "    </tr>\n",
       "    <tr>\n",
       "        <td>108</td>\n",
       "        <td>Peter</td>\n",
       "        <td>M</td>\n",
       "        <td>1997-09-01</td>\n",
       "        <td>15033</td>\n",
       "    </tr>\n",
       "    <tr>\n",
       "        <td>105</td>\n",
       "        <td>Gary</td>\n",
       "        <td>M</td>\n",
       "        <td>1995-10-02</td>\n",
       "        <td>15031</td>\n",
       "    </tr>\n",
       "    <tr>\n",
       "        <td>107</td>\n",
       "        <td>Lily</td>\n",
       "        <td>F</td>\n",
       "        <td>1996-01-23</td>\n",
       "        <td>15033</td>\n",
       "    </tr>\n",
       "    <tr>\n",
       "        <td>101</td>\n",
       "        <td>Alex</td>\n",
       "        <td>M</td>\n",
       "        <td>1996-02-20</td>\n",
       "        <td>15033</td>\n",
       "    </tr>\n",
       "    <tr>\n",
       "        <td>109</td>\n",
       "        <td>Eva</td>\n",
       "        <td>F</td>\n",
       "        <td>1995-02-10</td>\n",
       "        <td>15031</td>\n",
       "    </tr>\n",
       "    <tr>\n",
       "        <td>103</td>\n",
       "        <td>Quincy</td>\n",
       "        <td>M</td>\n",
       "        <td>1994-06-03</td>\n",
       "        <td>15031</td>\n",
       "    </tr>\n",
       "</table>"
      ],
      "text/plain": [
       "[('108', 'Peter', 'M', '1997-09-01', '15033'),\n",
       " ('105', 'Gary', 'M', '1995-10-02', '15031'),\n",
       " ('107', 'Lily', 'F', '1996-01-23', '15033'),\n",
       " ('101', 'Alex', 'M', '1996-02-20', '15033'),\n",
       " ('109', 'Eva', 'F', '1995-02-10', '15031'),\n",
       " ('103', 'Quincy', 'M', '1994-06-03', '15031')]"
      ]
     },
     "execution_count": 4,
     "metadata": {},
     "output_type": "execute_result"
    }
   ],
   "source": [
    "%sql select * from Students;"
   ]
  },
  {
   "cell_type": "code",
   "execution_count": 5,
   "metadata": {
    "scrolled": true
   },
   "outputs": [
    {
     "name": "stdout",
     "output_type": "stream",
     "text": [
      " * sqlite:///lab3.db3\n",
      "Done.\n"
     ]
    },
    {
     "data": {
      "text/html": [
       "<table>\n",
       "    <tr>\n",
       "        <th>cno</th>\n",
       "        <th>cname</th>\n",
       "        <th>tno</th>\n",
       "    </tr>\n",
       "    <tr>\n",
       "        <td>3-105</td>\n",
       "        <td>Introduction to Computer Science</td>\n",
       "        <td>825</td>\n",
       "    </tr>\n",
       "    <tr>\n",
       "        <td>3-245</td>\n",
       "        <td>Operating Systems</td>\n",
       "        <td>804</td>\n",
       "    </tr>\n",
       "    <tr>\n",
       "        <td>6-166</td>\n",
       "        <td>Digital Circuit</td>\n",
       "        <td>856</td>\n",
       "    </tr>\n",
       "    <tr>\n",
       "        <td>9-888</td>\n",
       "        <td>Advanced Mathematics</td>\n",
       "        <td>100</td>\n",
       "    </tr>\n",
       "</table>"
      ],
      "text/plain": [
       "[('3-105', 'Introduction to Computer Science', '825'),\n",
       " ('3-245', 'Operating Systems', '804'),\n",
       " ('6-166', 'Digital Circuit', '856'),\n",
       " ('9-888', 'Advanced Mathematics', '100')]"
      ]
     },
     "execution_count": 5,
     "metadata": {},
     "output_type": "execute_result"
    }
   ],
   "source": [
    "%sql select * from Courses;"
   ]
  },
  {
   "cell_type": "code",
   "execution_count": 6,
   "metadata": {
    "scrolled": true
   },
   "outputs": [
    {
     "name": "stdout",
     "output_type": "stream",
     "text": [
      " * sqlite:///lab3.db3\n",
      "Done.\n"
     ]
    },
    {
     "data": {
      "text/html": [
       "<table>\n",
       "    <tr>\n",
       "        <th>tno</th>\n",
       "        <th>tname</th>\n",
       "        <th>tgender</th>\n",
       "        <th>tbirthday</th>\n",
       "        <th>title</th>\n",
       "        <th>department</th>\n",
       "    </tr>\n",
       "    <tr>\n",
       "        <td>804</td>\n",
       "        <td>Dan</td>\n",
       "        <td>M</td>\n",
       "        <td>1958-12-02</td>\n",
       "        <td>AP</td>\n",
       "        <td>CS</td>\n",
       "    </tr>\n",
       "    <tr>\n",
       "        <td>856</td>\n",
       "        <td>Frank</td>\n",
       "        <td>M</td>\n",
       "        <td>1969-03-12</td>\n",
       "        <td>LE</td>\n",
       "        <td>EE</td>\n",
       "    </tr>\n",
       "    <tr>\n",
       "        <td>825</td>\n",
       "        <td>Alice</td>\n",
       "        <td>F</td>\n",
       "        <td>1972-05-05</td>\n",
       "        <td>TA</td>\n",
       "        <td>CS</td>\n",
       "    </tr>\n",
       "    <tr>\n",
       "        <td>831</td>\n",
       "        <td>Emma</td>\n",
       "        <td>F</td>\n",
       "        <td>1977-08-14</td>\n",
       "        <td>TA</td>\n",
       "        <td>EE</td>\n",
       "    </tr>\n",
       "</table>"
      ],
      "text/plain": [
       "[('804', 'Dan', 'M', '1958-12-02', 'AP', 'CS'),\n",
       " ('856', 'Frank', 'M', '1969-03-12', 'LE', 'EE'),\n",
       " ('825', 'Alice', 'F', '1972-05-05', 'TA', 'CS'),\n",
       " ('831', 'Emma', 'F', '1977-08-14', 'TA', 'EE')]"
      ]
     },
     "execution_count": 6,
     "metadata": {},
     "output_type": "execute_result"
    }
   ],
   "source": [
    "%sql select * from Teachers;"
   ]
  },
  {
   "cell_type": "markdown",
   "metadata": {},
   "source": [
    "Q1-- We used a nested query here to give back the results that has grades that were in the range we were given (70-90). After that we used the group by and having count function to make sure that only students who had received all of their scores in that range were being returned the query. We set the count at 2 because clearly each student took 2 courses; thus, they only had 2 grades in the Scores table. "
   ]
  },
  {
   "cell_type": "code",
   "execution_count": 16,
   "metadata": {
    "scrolled": true
   },
   "outputs": [
    {
     "name": "stdout",
     "output_type": "stream",
     "text": [
      " * sqlite:///lab3.db3\n",
      "Done.\n"
     ]
    },
    {
     "data": {
      "text/html": [
       "<table>\n",
       "    <tr>\n",
       "        <th>sno</th>\n",
       "    </tr>\n",
       "    <tr>\n",
       "        <td>105</td>\n",
       "    </tr>\n",
       "    <tr>\n",
       "        <td>108</td>\n",
       "    </tr>\n",
       "</table>"
      ],
      "text/plain": [
       "[('105',), ('108',)]"
      ]
     },
     "execution_count": 16,
     "metadata": {},
     "output_type": "execute_result"
    }
   ],
   "source": [
    "%%sql \n",
    "SELECT B.sno\n",
    "from Students B, Scores S\n",
    "WHERE S.grade IN (\n",
    "    SELECT grade \n",
    "    from Scores \n",
    "    Where grade > 69 and grade < 91)\n",
    "AND S.sno = B.sno\n",
    "GROUP BY S.sno\n",
    "HAVING COUNT(*) = 2"
   ]
  },
  {
   "cell_type": "markdown",
   "metadata": {},
   "source": [
    "Q2-- This question was very straight foward. We just return the overall average grade that the class received since it said \"for all the courses.\" "
   ]
  },
  {
   "cell_type": "code",
   "execution_count": 8,
   "metadata": {
    "scrolled": true
   },
   "outputs": [
    {
     "name": "stdout",
     "output_type": "stream",
     "text": [
      " * sqlite:///lab3.db3\n",
      "Done.\n"
     ]
    },
    {
     "data": {
      "text/html": [
       "<table>\n",
       "    <tr>\n",
       "        <th>AVG(grade)</th>\n",
       "    </tr>\n",
       "    <tr>\n",
       "        <td>79.66666666666667</td>\n",
       "    </tr>\n",
       "</table>"
      ],
      "text/plain": [
       "[(79.66666666666667,)]"
      ]
     },
     "execution_count": 8,
     "metadata": {},
     "output_type": "execute_result"
    }
   ],
   "source": [
    "%%sql \n",
    "SELECT AVG(grade)\n",
    "from Scores, Students\n",
    "WHERE Students.class = '15033'\n",
    "and Scores.sno = Students.sno"
   ]
  },
  {
   "cell_type": "markdown",
   "metadata": {},
   "source": [
    "Q3-- For the third question, we used again a nested query where the second query checks that the count(or number) of males in the class is equal to or higher than 2."
   ]
  },
  {
   "cell_type": "code",
   "execution_count": 14,
   "metadata": {},
   "outputs": [
    {
     "name": "stdout",
     "output_type": "stream",
     "text": [
      " * sqlite:///lab3.db3\n",
      "Done.\n"
     ]
    },
    {
     "data": {
      "text/html": [
       "<table>\n",
       "    <tr>\n",
       "        <th>class</th>\n",
       "    </tr>\n",
       "    <tr>\n",
       "        <td>15033</td>\n",
       "    </tr>\n",
       "    <tr>\n",
       "        <td>15031</td>\n",
       "    </tr>\n",
       "</table>"
      ],
      "text/plain": [
       "[('15033',), ('15031',)]"
      ]
     },
     "execution_count": 14,
     "metadata": {},
     "output_type": "execute_result"
    }
   ],
   "source": [
    "%%sql \n",
    "SELECT DISTINCT B.class\n",
    "from Students B\n",
    "WHERE EXISTS (SELECT COUNT(sgender) >= 2 from Students where sgender = 'M')"
   ]
  },
  {
   "cell_type": "markdown",
   "metadata": {},
   "source": [
    "Q4-- For this question, we simply made sure that the department and title for the teachers being compared were not the same.  We also used group-by to organize the information and to remove any duplicate pairs. "
   ]
  },
  {
   "cell_type": "code",
   "execution_count": 19,
   "metadata": {},
   "outputs": [
    {
     "name": "stdout",
     "output_type": "stream",
     "text": [
      " * sqlite:///lab3.db3\n",
      "Done.\n"
     ]
    },
    {
     "data": {
      "text/html": [
       "<table>\n",
       "    <tr>\n",
       "        <th>title</th>\n",
       "        <th>tname</th>\n",
       "    </tr>\n",
       "    <tr>\n",
       "        <td>TA</td>\n",
       "        <td>Alice</td>\n",
       "    </tr>\n",
       "    <tr>\n",
       "        <td>AP</td>\n",
       "        <td>Dan</td>\n",
       "    </tr>\n",
       "    <tr>\n",
       "        <td>TA</td>\n",
       "        <td>Emma</td>\n",
       "    </tr>\n",
       "    <tr>\n",
       "        <td>LE</td>\n",
       "        <td>Frank</td>\n",
       "    </tr>\n",
       "</table>"
      ],
      "text/plain": [
       "[('TA', 'Alice'), ('AP', 'Dan'), ('TA', 'Emma'), ('LE', 'Frank')]"
      ]
     },
     "execution_count": 19,
     "metadata": {},
     "output_type": "execute_result"
    }
   ],
   "source": [
    "%%sql\n",
    "SELECT D.title, D.tname\n",
    "from Teachers D, Teachers S\n",
    "WHERE D.department != S.department and D.title != S.title\n",
    "GROUP BY D.tname"
   ]
  },
  {
   "cell_type": "markdown",
   "metadata": {},
   "source": [
    "Q5-- We used the Scores table twice here and we set one of them as class 3-105 and the other as 3-245. Then we made sure to compare the grades and only return those that were higher than the lowest grade in 3-245. Finally, we simply ordered the grades in 3-105 in a descending order using order by."
   ]
  },
  {
   "cell_type": "code",
   "execution_count": 6,
   "metadata": {
    "scrolled": true
   },
   "outputs": [
    {
     "name": "stdout",
     "output_type": "stream",
     "text": [
      " * sqlite:///lab3.db3\n",
      "Done.\n"
     ]
    },
    {
     "data": {
      "text/html": [
       "<table>\n",
       "    <tr>\n",
       "        <th>sname</th>\n",
       "    </tr>\n",
       "    <tr>\n",
       "        <td>Quincy</td>\n",
       "    </tr>\n",
       "    <tr>\n",
       "        <td>Lily</td>\n",
       "    </tr>\n",
       "    <tr>\n",
       "        <td>Gary</td>\n",
       "    </tr>\n",
       "    <tr>\n",
       "        <td>Peter</td>\n",
       "    </tr>\n",
       "    <tr>\n",
       "        <td>Eva</td>\n",
       "    </tr>\n",
       "</table>"
      ],
      "text/plain": [
       "[('Quincy',), ('Lily',), ('Gary',), ('Peter',), ('Eva',)]"
      ]
     },
     "execution_count": 6,
     "metadata": {},
     "output_type": "execute_result"
    }
   ],
   "source": [
    "%%sql\n",
    "SELECT DISTINCT A.sname\n",
    "from Students A, Scores S, Scores T\n",
    "WHERE A.sno = S.sno and S.cno ='3-105'\n",
    "    and T.cno = '3-245' and S.grade > T.grade\n",
    "ORDER BY S.grade DESC"
   ]
  },
  {
   "cell_type": "markdown",
   "metadata": {},
   "source": [
    "Q6-- First, we use a nested query to find students who took more than one course by using the Scores Table twice and making sure the course numbers do not match each other, which clearly meant that the student was in more than one course. Then we used except to take out the highest student buy utilizing the MAX function to find the highest grade a student scored. "
   ]
  },
  {
   "cell_type": "code",
   "execution_count": 7,
   "metadata": {
    "scrolled": false
   },
   "outputs": [
    {
     "name": "stdout",
     "output_type": "stream",
     "text": [
      " * sqlite:///lab3.db3\n",
      "Done.\n"
     ]
    },
    {
     "data": {
      "text/html": [
       "<table>\n",
       "    <tr>\n",
       "        <th>sname</th>\n",
       "    </tr>\n",
       "    <tr>\n",
       "        <td>Alex</td>\n",
       "    </tr>\n",
       "    <tr>\n",
       "        <td>Eva</td>\n",
       "    </tr>\n",
       "    <tr>\n",
       "        <td>Gary</td>\n",
       "    </tr>\n",
       "    <tr>\n",
       "        <td>Lily</td>\n",
       "    </tr>\n",
       "    <tr>\n",
       "        <td>Peter</td>\n",
       "    </tr>\n",
       "</table>"
      ],
      "text/plain": [
       "[('Alex',), ('Eva',), ('Gary',), ('Lily',), ('Peter',)]"
      ]
     },
     "execution_count": 7,
     "metadata": {},
     "output_type": "execute_result"
    }
   ],
   "source": [
    "%%sql \n",
    "SELECT distinct sname\n",
    "from Scores, Students\n",
    "where Scores.sno = Students.sno \n",
    "and Students.sno in (select A.sno\n",
    "                     from Scores A, Scores B\n",
    "                     where A.cno <> B.cno)\n",
    "Except \n",
    "SELECT distinct B.sname\n",
    "from Scores A, Students B\n",
    "where (SELECT MAX(grade) = A.grade from Scores) and A.sno = B.sno"
   ]
  },
  {
   "cell_type": "code",
   "execution_count": null,
   "metadata": {},
   "outputs": [],
   "source": []
  },
  {
   "cell_type": "markdown",
   "metadata": {},
   "source": [
    "Q7--Finally, the last question! We used a nested query to return instances where the avergae grade was higher than the students grade. Then we returned that student's student number and name. We ordered the information with Course number. It is ascending order. First, 101,108,109 is for 3-105. Then, 105 and 109 for 3-245. Finally, 107 for 6-166."
   ]
  },
  {
   "cell_type": "code",
   "execution_count": 15,
   "metadata": {},
   "outputs": [
    {
     "name": "stdout",
     "output_type": "stream",
     "text": [
      " * sqlite:///lab3.db3\n",
      "Done.\n"
     ]
    },
    {
     "data": {
      "text/html": [
       "<table>\n",
       "    <tr>\n",
       "        <th>sname</th>\n",
       "        <th>sno</th>\n",
       "    </tr>\n",
       "    <tr>\n",
       "        <td>Alex</td>\n",
       "        <td>101</td>\n",
       "    </tr>\n",
       "    <tr>\n",
       "        <td>Peter</td>\n",
       "        <td>108</td>\n",
       "    </tr>\n",
       "    <tr>\n",
       "        <td>Eva</td>\n",
       "        <td>109</td>\n",
       "    </tr>\n",
       "    <tr>\n",
       "        <td>Gary</td>\n",
       "        <td>105</td>\n",
       "    </tr>\n",
       "    <tr>\n",
       "        <td>Eva</td>\n",
       "        <td>109</td>\n",
       "    </tr>\n",
       "    <tr>\n",
       "        <td>Lily</td>\n",
       "        <td>107</td>\n",
       "    </tr>\n",
       "</table>"
      ],
      "text/plain": [
       "[('Alex', '101'),\n",
       " ('Peter', '108'),\n",
       " ('Eva', '109'),\n",
       " ('Gary', '105'),\n",
       " ('Eva', '109'),\n",
       " ('Lily', '107')]"
      ]
     },
     "execution_count": 15,
     "metadata": {},
     "output_type": "execute_result"
    }
   ],
   "source": [
    "%%sql\n",
    "SELECT A.sname, A.sno\n",
    "from Students A, Scores B\n",
    "where (SELECT AVG(grade) > B.grade from Scores) and A.sno = B.sno\n",
    "ORDER BY B.cno"
   ]
  }
 ],
 "metadata": {
  "kernelspec": {
   "display_name": "Python 3",
   "language": "python",
   "name": "python3"
  },
  "language_info": {
   "codemirror_mode": {
    "name": "ipython",
    "version": 3
   },
   "file_extension": ".py",
   "mimetype": "text/x-python",
   "name": "python",
   "nbconvert_exporter": "python",
   "pygments_lexer": "ipython3",
   "version": "3.8.3"
  }
 },
 "nbformat": 4,
 "nbformat_minor": 4
}
